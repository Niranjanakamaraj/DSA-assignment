{
 "cells": [
  {
   "cell_type": "markdown",
   "metadata": {},
   "source": [
    "BINARY SEARCH"
   ]
  },
  {
   "cell_type": "code",
   "execution_count": 1,
   "metadata": {},
   "outputs": [],
   "source": [
    "def binary_search(arr, target):\n",
    "    if len(arr) == 0:                                               # Check for empty array\n",
    "        return -1\n",
    "\n",
    "    low, high = 0, len(arr) - 1\n",
    "\n",
    "    while low <= high:\n",
    "        mid = (low + high) // 2\n",
    "        if arr[mid] == target:\n",
    "            return mid                                               # Target found\n",
    "        elif arr[mid] < target:\n",
    "            low = mid + 1\n",
    "        else:\n",
    "            high = mid - 1\n",
    "\n",
    "    return -1                                                        # Target not found\n",
    "                                                                     \n",
    "def main():                                                          # Main function\n",
    "    size = int(input(\"Enter the size of the array: \"))               # Getting size of the array\n",
    "    arr = []                                                         # Initialize array\n",
    "    print(\"Enter the elements of the sorted array:\")\n",
    "    for i in range(size):\n",
    "        element = int(input(f\"Element {i + 1}: \"))\n",
    "        arr.append(element)\n",
    "    target = int(input(\"Enter the number you want to search: \"))\n",
    "\n",
    "    result = binary_search(arr, target)                              # Performing binary search\n",
    "    if result != -1:\n",
    "        print(f\"Binary Search: Target found at index {result}\")\n",
    "    else:\n",
    "        print(\"Binary Search: Target not found in the array\")\n",
    "\n",
    "\n",
    "if __name__ == \"__main__\":\n",
    "    main()\n",
    "\n"
   ]
  },
  {
   "cell_type": "markdown",
   "metadata": {},
   "source": [
    "ALGORITHM \n",
    "\n",
    "*Start from the first element of the array.\n",
    "*Compare the current element with the target.\n",
    "*If it matches, return the current index.\n",
    "*If it does not match, move to the next element.\n",
    "*Repeat step 2 until the end of the array is reached.\n",
    "*If the target is not found, return -1."
   ]
  }
 ],
 "metadata": {
  "kernelspec": {
   "display_name": "Python 3",
   "language": "python",
   "name": "python3"
  },
  "language_info": {
   "codemirror_mode": {
    "name": "ipython",
    "version": 3
   },
   "file_extension": ".py",
   "mimetype": "text/x-python",
   "name": "python",
   "nbconvert_exporter": "python",
   "pygments_lexer": "ipython3",
   "version": "3.12.2"
  }
 },
 "nbformat": 4,
 "nbformat_minor": 2
}
